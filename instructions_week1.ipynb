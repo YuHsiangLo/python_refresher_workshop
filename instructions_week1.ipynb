{
 "cells": [
  {
   "cell_type": "markdown",
   "id": "65cbbf2c",
   "metadata": {},
   "source": [
    "### 0. Preparation\n",
    "\n",
    "If you're using [Google Colab](https://colab.research.google.com/?utm_source=scs-index), first upload this notebook (under the \"Upload\" tab). Once you're in the Colab, navigate to the \"Files\" panel to the left, create a new folder called \"data\" (by right-clicking and selecting \"New folder\"), and then upload the train, dev, and test files into the newly-created data folder (by right-clicking on the \"data\" folder and hitting \"Upload\"). "
   ]
  },
  {
   "cell_type": "markdown",
   "id": "5b58a837",
   "metadata": {
    "pycharm": {
     "name": "#%% md\n"
    }
   },
   "source": [
    "### 1. Reading the data\n",
    "\n",
    "We are given data files in the following format:\n",
    "\n",
    "```\n",
    "'d          d                    d\n",
    "Bulls       b ʊ l z              b ʊ l z\n",
    "Chinatowns  t͡ʃ aɪ n ə t aʊ n z   t͡ʃ aɪ . n ə . t aʊ n z\n",
    "I'll        aɪ l                 aɪ l\n",
    "Icelander   aɪ s l ə n d ə       aɪ s . l ə n . d ə\n",
    "```\n",
    "\n",
    "This is a [TSV](https://www.loc.gov/preservation/digital/formats/fdd/fdd000533.shtml) file which contains three tabulator-separated (```'\\t'```) columns:\n",
    "\n",
    "1. Orthographic word\n",
    "2. IPA transcription\n",
    "3. Syllabified IPA transcription\n",
    "\n",
    "All IPA symbols are separated by single spaces and syllable boundaries are marked by a `.`\n",
    "\n",
    "We recommend first writing a function `read_line()`, which takes a line (i.e. string consisting of three tab-separated fields) as input, e.g.:\n",
    "\n",
    "```\n",
    "\"Chinatowns  t͡ʃ aɪ n ə t aʊ n z   t͡ʃ aɪ . n ə . t aʊ n z\"\n",
    "```\n",
    "\n",
    "and converts it into a Python dictionary having the following format:\n",
    "\n",
    "```\n",
    "{\"orth\": \"Chinatowns\",\n",
    " \"ipa\": [\"t͡ʃ\", \"aɪ\", \"n\", \"ə\", \"t\", \"aʊ\", \"n\", \"z\"],\n",
    " \"syll\": [([\"t͡ʃ\", \"aɪ\"], 0, 2), ([\"n\", \"ə\"], 2, 4), ([\"t\", \"aʊ\", \"n\", \"z\"], 4, 8)]}\n",
    "```\n",
    "\n",
    "Apart from `syll`, the fields are pretty self-explanatory. In the `syll` field, we've got a list of tuples representing each syllable, its start index and end index (which is 1 + the index of its final character). E.g. the syllable `\"n\", \"ə\"`, in the example above, starts at index 2 and ends at index 4:\n",
    "\n",
    "```\n",
    "IPA:   \"t͡ʃ\", \"aɪ\", \"n\", \"ə\", \"t\", \"aʊ\", \"n\", \"z\"\n",
    "index:  0     1     2    3    4    5     6    7\n",
    "```\n",
    "\n",
    "After implementing the function `read_line()`, you can implement a function `read_data()`, which reads a file into a list of dictionaries. \n",
    "\n",
    "Use `read_data()` to read the training, development and test data and store the result in variables `train_data`, `dev_data` and `test_data`. "
   ]
  },
  {
   "cell_type": "code",
   "execution_count": 2,
   "id": "a3fb669c",
   "metadata": {},
   "outputs": [],
   "source": [
    "# your code here"
   ]
  },
  {
   "cell_type": "markdown",
   "id": "c8d5de92",
   "metadata": {
    "pycharm": {
     "name": "#%% md\n"
    }
   },
   "source": [
    "### 2. Baseline\n",
    "\n",
    "Today we will implement a very trivial baseline syllabifier function `baseline()`. It contains no phonological insight. Instead, it simply chops the input word into \"syllables\" of length 2. E.g. given the input:\n",
    "\n",
    "```\n",
    "t͡ʃ aɪ n ə t aʊ n z\n",
    "```\n",
    "\n",
    "the baseline function would syllabify:\n",
    "\n",
    "```\n",
    "t͡ʃ aɪ . n ə . t aʊ . n z\n",
    "```\n",
    "\n",
    "**Note:** If the input contains an odd number of IPA symbols, then the final symbol should constitute a singleton syllable. E.g, `aɪ s l ə n d ə -> aɪ s . l ə . n d . ə`. \n",
    "\n",
    "Given the input string:\n",
    "\n",
    "```\n",
    "[\"t͡ʃ\", \"aɪ\", \"n\", \"ə\", \"t\", \"aʊ\", \"n\", \"z\"]\n",
    "```\n",
    "\n",
    "`baseline()` should return:\n",
    "\n",
    "```\n",
    "[([\"t͡ʃ\", \"aɪ\"], 0, 2), ([\"n\", \"ə\"], 2, 4), ([\"t\", \"aʊ\"], 4, 6), ([\"n\", \"z\"], 6, 8)]\n",
    "```"
   ]
  },
  {
   "cell_type": "code",
   "execution_count": 3,
   "id": "74ab25cb",
   "metadata": {},
   "outputs": [],
   "source": [
    "# your code here"
   ]
  },
  {
   "cell_type": "markdown",
   "id": "b71bbccf",
   "metadata": {
    "pycharm": {
     "name": "#%% md\n"
    }
   },
   "source": [
    "### 3. Evaluation\n",
    "\n",
    "We will evaluate the performance of the baseline system using [F1-score](https://deepai.org/machine-learning-glossary-and-terms/f-score).\n",
    "\n",
    "![](https://upload.wikimedia.org/wikipedia/commons/2/26/Precisionrecall.svg)\n",
    "\n",
    "E.g. given gold standard syllabified strings:\n",
    "\n",
    "```\n",
    "[([\"t͡ʃ\", \"aɪ\"], 0, 2), ([\"n\", \"ə\"], 2, 4), ([\"t\", \"aʊ\", \"n\", \"z\"], 4, 8)]\n",
    "[([\"aɪ\", \"s\"], 0, 2), ([\"l\", \"ə\", \"n\"], 2, 5), ([\"d\", \"ə\"], 5, 7), ([\"s\"], 7, 8)]\n",
    "```\n",
    "\n",
    "and a baseline system output:\n",
    "\n",
    "```\n",
    "[([\"t͡ʃ\", \"aɪ\"], 0, 2), ([\"n\", \"ə\"], 2, 4), ([\"t\", \"aʊ\"], 4, 6), ([\"n\", \"z\"], 6, 8)]\n",
    "[([\"aɪ\", \"s\"], 0, 2), ([\"l\", \"ə\"], 2, 4), ([\"n\", \"d\"], 4, 6), ([\"ə\", \"s\"], 7, 8)]\n",
    "```\n",
    "\n",
    "we have 3 true positives: \n",
    "\n",
    "```\n",
    "[\"t͡ʃ\", \"aɪ\"], [\"n\", \"ə\"], [\"aɪ\", \"s\"] \n",
    "```\n",
    "and 5 false positives:\n",
    "\n",
    "```\n",
    "[\"t\", \"aʊ\"], [\"n\", \"z\"], [\"l\", \"ə\"], [\"n\", \"d\"], [\"ə\", \"s\"]\n",
    "``` \n",
    "\n",
    "and 4 false negatives: \n",
    "\n",
    "```\n",
    "[\"t\", \"aʊ\", \"n\", \"z\"], [\"l\", \"ə\", \"n\"], [\"d\", \"ə\"], [\"s\"]\n",
    "``` \n",
    "\n",
    "This results in precision: \n",
    "\n",
    "$$P = truepos/(truepos + falsepos) = 3/8$$ \n",
    "\n",
    "and recall: \n",
    "\n",
    "$$R = truepos/(truepos + falseneg) = 3/7$$ \n",
    "\n",
    "giving F1-score: \n",
    "\n",
    "$$F_1 = 2 * P * R / (P + R) = 0.4 $$\n",
    "\n",
    "You should implement a function `evaluate()` which takes two lists as input: (1) a list of system output syllabified strings, and (2) a list of gold standard syllabified strings. The function then computes the F1-score and returns it. \n",
    "\n",
    "**Note:** You should sum up the true positive, false positive and false negative scores over the entire dataset before computing F1-score."
   ]
  },
  {
   "cell_type": "code",
   "execution_count": 4,
   "id": "65606ef0",
   "metadata": {
    "pycharm": {
     "name": "#%%\n"
    }
   },
   "outputs": [],
   "source": [
    "# your code here"
   ]
  }
 ],
 "metadata": {
  "kernelspec": {
   "display_name": "Python 3 (ipykernel)",
   "language": "python",
   "name": "python3"
  },
  "language_info": {
   "codemirror_mode": {
    "name": "ipython",
    "version": 3
   },
   "file_extension": ".py",
   "mimetype": "text/x-python",
   "name": "python",
   "nbconvert_exporter": "python",
   "pygments_lexer": "ipython3",
   "version": "3.8.8"
  }
 },
 "nbformat": 4,
 "nbformat_minor": 5
}