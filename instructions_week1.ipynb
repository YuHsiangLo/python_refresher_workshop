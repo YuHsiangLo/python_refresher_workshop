{
 "cells": [
  {
   "cell_type": "markdown",
   "id": "46db748b",
   "metadata": {},
   "source": [
    "## Python refresher workshop 1\n",
    "\n",
    "During this workshop (spanning four weeks), we will build a few different syllabification systems, i.e. models which can split words into sequences of syllables:\n",
    "\n",
    "```\n",
    "aɪ s l ə n d ə  ->  aɪ s . l ə n . d ə\n",
    "```\n",
    "\n",
    "In this first meeting, we will focus on data processing and evaluation. We'll also implement a  baseline syllabification algorithm. A baseline model is essentially a simple model that acts as a reference in a machine learning project. Our baseline will simply chunk the input into segments of two characters (with an optional single character segment at the end):\n",
    "\n",
    "```\n",
    "aɪ s l ə n d ə  ->  aɪ s . l ə . n d . ə\n",
    "t͡ʃ aɪ n ə t aʊ n z   t͡ʃ aɪ . n ə . t aʊ . n z\n",
    "```\n",
    "\n",
    "This is obviously not a great result. For example, `n d` is a pretty weird syllable.  However, this will give us a baseline performance that we can compare to when we start developing more complex syllabification systems. Any reasonable syllabifier needs to be able to beat this simple baseline.\n",
    "\n",
    "The idea is to work on the exercises in pairs or small teams (though you can also work individually if you prefer). For people with no python experience, it's a good idea to team up with someone who is a bit more experienced.  \n",
    "\n",
    "The following python lectures on Canvas can be useful:\n",
    "\n",
    "* [String handling](https://canvas.ubc.ca/courses/65386/files/9375671?module_item_id=2255551)\n",
    "* [Loops](https://canvas.ubc.ca/courses/65386/files/9375677?module_item_id=2255559)\n",
    "* [Reading from files](https://canvas.ubc.ca/courses/65386/files/9375679?module_item_id=2255563)\n",
    "\n",
    "These materials should take you pretty far, but googling can also be useful. You are also very welcome to ask each other, Miikka and Roger for help. \n",
    "\n",
    "There are hints in the notebook which you can view by clicking on the hint. It's probably a good idea to try first and look at the hint if you need additional help.\n",
    "\n",
    "If you feel that you have no idea how to get started, let Miikka and Roger know. We can discuss the exercises together.  "
   ]
  },
  {
   "cell_type": "markdown",
   "id": "65cbbf2c",
   "metadata": {},
   "source": [
    "### 0. Preparation\n",
    "\n",
    "If you're using [Google Colab](https://colab.research.google.com/?utm_source=scs-index), first upload this notebook (under the \"Upload\" tab). Once you're in the Colab, navigate to the \"Files\" panel to the left, create a new folder called \"data\" (by right-clicking and selecting \"New folder\"), and then upload the train, dev, and test files into the newly-created data folder (by right-clicking on the \"data\" folder and hitting \"Upload\"). "
   ]
  },
  {
   "cell_type": "markdown",
   "id": "5b58a837",
   "metadata": {
    "pycharm": {
     "name": "#%% md\n"
    }
   },
   "source": [
    "### 1. Reading the data\n",
    "\n",
    "We are given data files in the following format:\n",
    "\n",
    "```\n",
    "'d          d                    d\n",
    "Bulls       b ʊ l z              b ʊ l z\n",
    "Chinatowns  t͡ʃ aɪ n ə t aʊ n z   t͡ʃ aɪ . n ə . t aʊ n z\n",
    "I'll        aɪ l                 aɪ l\n",
    "Icelander   aɪ s l ə n d ə       aɪ s . l ə n . d ə\n",
    "```\n",
    "\n",
    "This is a [TSV](https://www.loc.gov/preservation/digital/formats/fdd/fdd000533.shtml) file which contains three tabulator-separated (```'\\t'```) columns:\n",
    "\n",
    "1. Orthographic word\n",
    "2. IPA transcription\n",
    "3. Syllabified IPA transcription\n",
    "\n",
    "All IPA symbols are separated by single spaces and syllable boundaries are marked by a `.`\n",
    "\n",
    "We recommend first writing a function `read_line()`, which takes a line (i.e. string consisting of three tab-separated fields) as input, e.g.:\n",
    "\n",
    "```\n",
    "\"Chinatowns  t͡ʃ aɪ n ə t aʊ n z   t͡ʃ aɪ . n ə . t aʊ n z\"\n",
    "```\n",
    "\n",
    "and converts it into a Python dictionary having the following format:\n",
    "\n",
    "```\n",
    "{\"orth\": \"Chinatowns\",\n",
    " \"ipa\": [\"t͡ʃ\", \"aɪ\", \"n\", \"ə\", \"t\", \"aʊ\", \"n\", \"z\"],\n",
    " \"syll\": [([\"t͡ʃ\", \"aɪ\"], 0, 2), ([\"n\", \"ə\"], 2, 4), ([\"t\", \"aʊ\", \"n\", \"z\"], 4, 8)]}\n",
    "```\n",
    "\n",
    "Apart from `syll`, the fields are pretty self-explanatory. In the `syll` field, we've got a list of tuples representing each syllable, its start index and end index (which is 1 + the index of its final character). E.g. the syllable `\"n\", \"ə\"`, in the example above, starts at index 2 and ends at index 4:\n",
    "\n",
    "```\n",
    "IPA:   \"t͡ʃ\", \"aɪ\", \"n\", \"ə\", \"t\", \"aʊ\", \"n\", \"z\"\n",
    "index:  0     1     2    3    4    5     6    7\n",
    "```\n",
    "\n",
    "After implementing the function `read_line()`, you can implement a function `read_data()`, which reads a file into a list of dictionaries. \n",
    "\n",
    "Use `read_data()` to read the training, development and test data and store the result in variables `train_data`, `dev_data` and `test_data`. "
   ]
  },
  {
   "cell_type": "markdown",
   "id": "fb11dae7",
   "metadata": {},
   "source": [
    "<details>\n",
    "    <summary style=\"font-weight: bold;\">Click here to see the first hint</summary>\n",
    "    To create the \"syll\" list, you need to loop through the syllabified IPA transcription and track the index of each IPA symbol (There is a function that allows you to get index while looping). Note that because of the presence of the syllable boundary \".\", the raw index of an IPA symbol needs to be modified to get the correct index.\n",
    "</details>"
   ]
  },
  {
   "cell_type": "markdown",
   "id": "f6f583bd",
   "metadata": {},
   "source": [
    "<details>\n",
    "    <summary style=\"font-weight: bold;\">Click here to see the second hint</summary>\n",
    "    You'll need to initialize two variables before looping through the transcription. One variable is used to track the start index for each variable, while the other variable is used to track how many \".\" you have encountered. The latter variable can then be used to derive the correct start and end indices.\n",
    "</details>"
   ]
  },
  {
   "cell_type": "markdown",
   "id": "0046de4f",
   "metadata": {},
   "source": [
    "<details>\n",
    "    <summary style=\"font-weight: bold;\">Click here to see the third hint</summary>\n",
    "    Here is the skeleton for one possible way to solve the problem:\n",
    "    <code>\n",
    "    for index, symbol in IPAs:\n",
    "        case 1: if symbol is \".\" (i.e., you reach the end of a syllable)\n",
    "            add the current syllable to syll list\n",
    "            update the two variables that track start index and # of \".\" seen\n",
    "        case 2: if we reach the end of IPAs (last syllable)\n",
    "            add the last syllable to syll list\n",
    "        case 3: \"else\" condition\n",
    "            add the symbol to the current syllable\n",
    "    </code>\n",
    "</details>"
   ]
  },
  {
   "cell_type": "code",
   "execution_count": null,
   "id": "b2c4e0cc",
   "metadata": {},
   "outputs": [],
   "source": [
    "# your code here"
   ]
  },
  {
   "cell_type": "markdown",
   "id": "c8d5de92",
   "metadata": {
    "pycharm": {
     "name": "#%% md\n"
    }
   },
   "source": [
    "### 2. Baseline\n",
    "\n",
    "Today we will implement a very trivial baseline syllabifier function `baseline()`. It contains no phonological insight. Instead, it simply chops the input word into \"syllables\" of length 2. E.g. given the input:\n",
    "\n",
    "```\n",
    "t͡ʃ aɪ n ə t aʊ n z\n",
    "```\n",
    "\n",
    "the baseline function would syllabify:\n",
    "\n",
    "```\n",
    "t͡ʃ aɪ . n ə . t aʊ . n z\n",
    "```\n",
    "\n",
    "**Note:** If the input contains an odd number of IPA symbols, then the final symbol should constitute a singleton syllable. E.g, `aɪ s l ə n d ə -> aɪ s . l ə . n d . ə`. \n",
    "\n",
    "Given the input string:\n",
    "\n",
    "```\n",
    "[\"t͡ʃ\", \"aɪ\", \"n\", \"ə\", \"t\", \"aʊ\", \"n\", \"z\"]\n",
    "```\n",
    "\n",
    "`baseline()` should return:\n",
    "\n",
    "```\n",
    "[([\"t͡ʃ\", \"aɪ\"], 0, 2), ([\"n\", \"ə\"], 2, 4), ([\"t\", \"aʊ\"], 4, 6), ([\"n\", \"z\"], 6, 8)]\n",
    "```"
   ]
  },
  {
   "cell_type": "markdown",
   "id": "0afebe0e",
   "metadata": {},
   "source": [
    "<details>\n",
    "    <summary style=\"font-weight: bold;\">Click here to see the first hint</summary>\n",
    "    You can use the index value to see if you need to insert a syllable boundary \".\".\n",
    "</details>"
   ]
  },
  {
   "cell_type": "markdown",
   "id": "a4a83df0",
   "metadata": {},
   "source": [
    "<details>\n",
    "    <summary style=\"font-weight: bold;\">Click here to see the second hint</summary>\n",
    "    More specifically, whether to insert a boundary is determined by whether the current index is odd or even. You can use the remainder of a 2-division to see if the index is odd or even. The modulo operator <code>%</code> will be handy here. Note that you do NOT need to insert a syllable boundary \".\" after the last syllable.\n",
    "</details>"
   ]
  },
  {
   "cell_type": "code",
   "execution_count": 3,
   "id": "74ab25cb",
   "metadata": {},
   "outputs": [],
   "source": [
    "# your code here"
   ]
  },
  {
   "cell_type": "markdown",
   "id": "b71bbccf",
   "metadata": {
    "pycharm": {
     "name": "#%% md\n"
    }
   },
   "source": [
    "### 3. Evaluation\n",
    "\n",
    "We will evaluate the performance of the baseline system using [F1-score](https://deepai.org/machine-learning-glossary-and-terms/f-score).\n",
    "\n",
    "![](https://upload.wikimedia.org/wikipedia/commons/2/26/Precisionrecall.svg)\n",
    "\n",
    "E.g. given gold standard syllabified strings:\n",
    "\n",
    "```\n",
    "[([\"t͡ʃ\", \"aɪ\"], 0, 2), ([\"n\", \"ə\"], 2, 4), ([\"t\", \"aʊ\", \"n\", \"z\"], 4, 8)]\n",
    "[([\"aɪ\", \"s\"], 0, 2), ([\"l\", \"ə\", \"n\"], 2, 5), ([\"d\", \"ə\"], 5, 7), ([\"s\"], 7, 8)]\n",
    "```\n",
    "\n",
    "and a baseline system output:\n",
    "\n",
    "```\n",
    "[([\"t͡ʃ\", \"aɪ\"], 0, 2), ([\"n\", \"ə\"], 2, 4), ([\"t\", \"aʊ\"], 4, 6), ([\"n\", \"z\"], 6, 8)]\n",
    "[([\"aɪ\", \"s\"], 0, 2), ([\"l\", \"ə\"], 2, 4), ([\"n\", \"d\"], 4, 6), ([\"ə\", \"s\"], 7, 8)]\n",
    "```\n",
    "\n",
    "we have 3 true positives: \n",
    "\n",
    "```\n",
    "[\"t͡ʃ\", \"aɪ\"], [\"n\", \"ə\"], [\"aɪ\", \"s\"] \n",
    "```\n",
    "and 5 false positives:\n",
    "\n",
    "```\n",
    "[\"t\", \"aʊ\"], [\"n\", \"z\"], [\"l\", \"ə\"], [\"n\", \"d\"], [\"ə\", \"s\"]\n",
    "``` \n",
    "\n",
    "and 4 false negatives: \n",
    "\n",
    "```\n",
    "[\"t\", \"aʊ\", \"n\", \"z\"], [\"l\", \"ə\", \"n\"], [\"d\", \"ə\"], [\"s\"]\n",
    "``` \n",
    "\n",
    "This results in precision: \n",
    "\n",
    "$$P = \\frac{\\text{true pos}}{(\\text{true pos} + \\text{false pos})} = 3/8$$ \n",
    "\n",
    "and recall: \n",
    "\n",
    "$$R = \\frac{\\text{true pos}}{(\\text{true pos} + \\text{false neg})} = 3/7$$ \n",
    "\n",
    "giving F1-score: \n",
    "\n",
    "$$F_1 = 2 * P * R / (P + R) = 0.4 $$\n",
    "\n",
    "You should implement a function `evaluate()` which takes two lists as input: (1) a list of system output syllabified strings, and (2) a list of gold standard syllabified strings. The function then computes the F1-score and returns it. \n",
    "\n",
    "**Note:** You should sum up the true positive, false positive and false negative scores over the entire dataset before computing F1-score."
   ]
  },
  {
   "cell_type": "markdown",
   "id": "f1057c08",
   "metadata": {},
   "source": [
    "<details>\n",
    "    <summary style=\"font-weight: bold;\">Click here to see the first hint</summary>\n",
    "    Note that you need to compare the corresponding gold standard and system output. That is, you shouldn't collect the syllables from all gold standards into a giant gold set, collect the syllables from all system outputs into a giant system set, and calculate precision and recall use these two sets.\n",
    "</details>"
   ]
  },
  {
   "cell_type": "markdown",
   "id": "b213b9e3",
   "metadata": {},
   "source": [
    "<details>\n",
    "    <summary style=\"font-weight: bold;\">Click here to see the second hint</summary>\n",
    "    The set operations like intersection and difference will be useful here to calculate true positive, false positive, and false negative.\n",
    "</details>"
   ]
  },
  {
   "cell_type": "code",
   "execution_count": 4,
   "id": "65606ef0",
   "metadata": {
    "pycharm": {
     "name": "#%%\n"
    }
   },
   "outputs": [],
   "source": [
    "# your code here"
   ]
  }
 ],
 "metadata": {
  "kernelspec": {
   "display_name": "Python 3 (ipykernel)",
   "language": "python",
   "name": "python3"
  },
  "language_info": {
   "codemirror_mode": {
    "name": "ipython",
    "version": 3
   },
   "file_extension": ".py",
   "mimetype": "text/x-python",
   "name": "python",
   "nbconvert_exporter": "python",
   "pygments_lexer": "ipython3",
   "version": "3.9.12"
  }
 },
 "nbformat": 4,
 "nbformat_minor": 5
}
